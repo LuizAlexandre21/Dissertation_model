{
 "cells": [
  {
   "cell_type": "code",
   "execution_count": 1,
   "id": "704f63b6",
   "metadata": {},
   "outputs": [],
   "source": [
    "#Notebook to simulate shocks for same periods across regions A and B\n",
    "\n",
    "\n",
    "# Import the required libraries\n",
    "import numpy as np\n",
    "import matplotlib.pyplot as plt\n",
    "from scipy.optimize import bisect, root"
   ]
  },
  {
   "cell_type": "code",
   "execution_count": 2,
   "id": "e01acdfc",
   "metadata": {},
   "outputs": [
    {
     "data": {
      "image/png": "[encoded data removed]",
      "text/plain": [
       "<Figure size 432x288 with 1 Axes>"
      ]
     },
     "metadata": {
      "needs_background": "light"
     },
     "output_type": "display_data"
    }
   ],
   "source": [
    "#Creating the series of shocks\n",
    "\n",
    "T = 50\n",
    "t, tt = 10, 20     #period between t and tt: health shocks z=0\n",
    "\n",
    "zAv = []\n",
    "zBv = zAv\n",
    "\n",
    "for j in range(0,T):\n",
    "    if j < t or j >=tt:\n",
    "        zA = 0          #no health shocks\n",
    "        zAv.append(zA)\n",
    "    else:\n",
    "        zA = 1          #health shocks\n",
    "        zAv.append(zA)\n",
    "\n",
    "z = np.array(zAv)\n",
    "\n",
    "plt.plot(z, '.')\n",
    "plt.show()"
   ]
  },
  {
   "cell_type": "code",
   "execution_count": 5,
   "id": "a261f520",
   "metadata": {},
   "outputs": [],
   "source": [
    "# Parameter values\n",
    "\n",
    "#Agents\n",
    "beta  = 0.99\n",
    "a     = 0.756\n",
    "omega = 1.5 \n",
    "\n",
    "#Firms\n",
    "alpha  = 0.70\n",
    "KA     = 6.04 \n",
    "chi_0A   = 0.1 \n",
    "chi_1A   = 6.1 \n",
    "\n",
    "H = 1\n",
    "hstarA = 0.0948 \n",
    "gamma1 = 0.20\n",
    "h = H / gamma1   #(H/gamma1)\n",
    "theta  = 0.0918\n",
    "\n",
    "\n",
    "tau = 0.15"
   ]
  },
  {
   "cell_type": "code",
   "execution_count": 20,
   "id": "74c45d7a",
   "metadata": {},
   "outputs": [],
   "source": [
    "#mstar function: we need to find the root of the function\n",
    "#expression (27), p.5, September 25 notes\n",
    "\n",
    "#def bb_m(m,z):\n",
    "    \n",
    "#    expoM = chi_1A*omega + alpha*omega - omega - alpha*chi_1A\n",
    "#    mstarpar = (chi_0A**(alpha-omega))*(alpha**alpha)*((1-tau)**alpha)*((1-alpha)**(omega-alpha)*(KA**(alpha*(1-omega))))\n",
    "    \n",
    "    #phiA  = 1 \n",
    "#    phiA = hstarA / (hstarA + z*theta*m*KA)  #(hstarA + z*0.20)\n",
    "    \n",
    "#    bbm = ((phiA**alpha)*mstarpar) - m**(expoM)\n",
    "#    return bbm.flatten()\n",
    "\n",
    "\n",
    "#res = root(lambda x: bb_m(x,z), x0=np.ones(z.size))\n",
    "#mstar_t = res.x\n",
    "\n",
    "#plt.plot(mstar_t)\n",
    "#mstar_t"
   ]
  },
  {
   "cell_type": "code",
   "execution_count": 6,
   "id": "405eb830",
   "metadata": {},
   "outputs": [
    {
     "data": {
      "text/plain": [
       "array([0.97459745, 0.97459745, 0.97459745, 0.97459745, 0.97459745,\n",
       "       0.97459745, 0.97459745, 0.97459745, 0.97459745, 0.97459745,\n",
       "       0.94083221, 0.94083221, 0.94083221, 0.94083221, 0.94083221,\n",
       "       0.94083221, 0.94083221, 0.94083221, 0.94083221, 0.94083221,\n",
       "       0.97459745, 0.97459745, 0.97459745, 0.97459745, 0.97459745,\n",
       "       0.97459745, 0.97459745, 0.97459745, 0.97459745, 0.97459745,\n",
       "       0.97459745, 0.97459745, 0.97459745, 0.97459745, 0.97459745,\n",
       "       0.97459745, 0.97459745, 0.97459745, 0.97459745, 0.97459745,\n",
       "       0.97459745, 0.97459745, 0.97459745, 0.97459745, 0.97459745,\n",
       "       0.97459745, 0.97459745, 0.97459745, 0.97459745, 0.97459745])"
      ]
     },
     "execution_count": 6,
     "metadata": {},
     "output_type": "execute_result"
    }
   ],
   "source": [
    "expoM = chi_1A*omega + alpha*omega - omega - alpha*chi_1A\n",
    "mstarpar = (chi_0A**(alpha-omega))*(alpha**alpha)*((1-tau)**alpha)*((1-alpha)**(omega-alpha)*(KA**(alpha*(1-omega))))\n",
    "\n",
    "phiA_t = 1 - 0.2*z\n",
    "\n",
    "mstar_t = ((phiA_t**alpha)*mstarpar)**(1/expoM)\n",
    "mstar_t"
   ]
  },
  {
   "cell_type": "code",
   "execution_count": 7,
   "id": "66d3a62f",
   "metadata": {},
   "outputs": [
    {
     "data": {
      "text/plain": [
       "array([1.01588497, 1.01588497, 1.01588497, 1.01588497, 1.01588497,\n",
       "       1.01588497, 1.01588497, 1.01588497, 1.01588497, 1.01588497,\n",
       "       0.75851576, 0.75851576, 0.75851576, 0.75851576, 0.75851576,\n",
       "       0.75851576, 0.75851576, 0.75851576, 0.75851576, 0.75851576,\n",
       "       1.01588497, 1.01588497, 1.01588497, 1.01588497, 1.01588497,\n",
       "       1.01588497, 1.01588497, 1.01588497, 1.01588497, 1.01588497,\n",
       "       1.01588497, 1.01588497, 1.01588497, 1.01588497, 1.01588497,\n",
       "       1.01588497, 1.01588497, 1.01588497, 1.01588497, 1.01588497,\n",
       "       1.01588497, 1.01588497, 1.01588497, 1.01588497, 1.01588497,\n",
       "       1.01588497, 1.01588497, 1.01588497, 1.01588497, 1.01588497])"
      ]
     },
     "execution_count": 7,
     "metadata": {},
     "output_type": "execute_result"
    }
   ],
   "source": [
    "fA_t = theta*mstar_t*KA       #Function that determines the impact of a health shock on health demand\n",
    "\n",
    "hbarA_t = hstarA + z*fA_t    #subsistance level of demand for health goods\n",
    "#phiA_t  = (hstarA / (hbarA_t))  #labor productivity function\n",
    "\n",
    "\n",
    "#Lstar expression (28), p.5, September 25 notes\n",
    "expoL    = chi_1A*omega + alpha*omega - omega - alpha*chi_1A\n",
    "Lstarpar = (chi_0A**(alpha-1))*(alpha**(chi_1A+alpha-1))*((1-tau)**(chi_1A+alpha-1))*((1-alpha)**(1-alpha))*(KA**((1-alpha)*(chi_1A-1)))\n",
    "\n",
    "Lstar_t  = (Lstarpar*(phiA_t**(chi_1A+alpha-1)))**(1/expoL)\n",
    "\n",
    "Lstar_t  #plt.plot(Lstar_t)\n",
    "Lstar_t"
   ]
  },
  {
   "cell_type": "code",
   "execution_count": 8,
   "id": "81ac6922",
   "metadata": {},
   "outputs": [
    {
     "data": {
      "text/plain": [
       "array([1.18577787, 1.18577787, 1.18577787, 1.18577787, 1.18577787,\n",
       "       1.18577787, 1.18577787, 1.18577787, 1.18577787, 1.18577787,\n",
       "       1.28077662, 1.28077662, 1.28077662, 1.28077662, 1.28077662,\n",
       "       1.28077662, 1.28077662, 1.28077662, 1.28077662, 1.28077662,\n",
       "       1.18577787, 1.18577787, 1.18577787, 1.18577787, 1.18577787,\n",
       "       1.18577787, 1.18577787, 1.18577787, 1.18577787, 1.18577787,\n",
       "       1.18577787, 1.18577787, 1.18577787, 1.18577787, 1.18577787,\n",
       "       1.18577787, 1.18577787, 1.18577787, 1.18577787, 1.18577787,\n",
       "       1.18577787, 1.18577787, 1.18577787, 1.18577787, 1.18577787,\n",
       "       1.18577787, 1.18577787, 1.18577787, 1.18577787, 1.18577787])"
      ]
     },
     "execution_count": 8,
     "metadata": {},
     "output_type": "execute_result"
    }
   ],
   "source": [
    "#Equilibrium: Output, Profits, Wages and Aggregate Consumption\n",
    "#expressions (29)-(32), p.6, September 25 notes\n",
    "\n",
    "Ystar_t  = (mstar_t*KA)*(1-alpha)*Lstar_t**alpha               #Output\n",
    "Pistar_t = (1-alpha)*(1-(1/chi_1A))*Ystar_t                    #Profits\n",
    "wstar_t  = (1/phiA_t)*(1/(1-tau))*Lstar_t**(omega-1)           #Wages\n",
    "Cstar_t  = Ystar_t - chi_0A*(((mstar_t)**chi_1A)/chi_1A)*KA\n",
    "\n",
    "wstar_t"
   ]
  },
  {
   "cell_type": "code",
   "execution_count": 9,
   "id": "dd8f0ed9",
   "metadata": {},
   "outputs": [
    {
     "data": {
      "text/plain": [
       "array([0.36308202, 0.36308202, 0.36308202, 0.36308202, 0.36308202,\n",
       "       0.36308202, 0.36308202, 0.36308202, 0.36308202, 0.36308202,\n",
       "       0.75419965, 0.75419965, 0.75419965, 0.75419965, 0.75419965,\n",
       "       0.75419965, 0.75419965, 0.75419965, 0.75419965, 0.75419965,\n",
       "       0.36308202, 0.36308202, 0.36308202, 0.36308202, 0.36308202,\n",
       "       0.36308202, 0.36308202, 0.36308202, 0.36308202, 0.36308202,\n",
       "       0.36308202, 0.36308202, 0.36308202, 0.36308202, 0.36308202,\n",
       "       0.36308202, 0.36308202, 0.36308202, 0.36308202, 0.36308202,\n",
       "       0.36308202, 0.36308202, 0.36308202, 0.36308202, 0.36308202,\n",
       "       0.36308202, 0.36308202, 0.36308202, 0.36308202, 0.36308202])"
      ]
     },
     "execution_count": 9,
     "metadata": {},
     "output_type": "execute_result"
    }
   ],
   "source": [
    "#Equilibrium prices\n",
    "#expressions (33)-(34), p.4, September 25 notes\n",
    "pP_t = ((1-a)/a)*((Cstar_t - (Lstar_t**omega)/omega))/(H - hstarA - z*fA_t)\n",
    "\n",
    "pP_t"
   ]
  },
  {
   "cell_type": "code",
   "execution_count": 10,
   "id": "05f6f2a0",
   "metadata": {},
   "outputs": [
    {
     "data": {
      "text/plain": [
       "array([0.18069209, 0.18069209, 0.18069209, 0.18069209, 0.18069209,\n",
       "       0.18069209, 0.18069209, 0.18069209, 0.18069209, 0.18069209,\n",
       "       0.14572339, 0.14572339, 0.14572339, 0.14572339, 0.14572339,\n",
       "       0.14572339, 0.14572339, 0.14572339, 0.14572339, 0.14572339,\n",
       "       0.18069209, 0.18069209, 0.18069209, 0.18069209, 0.18069209,\n",
       "       0.18069209, 0.18069209, 0.18069209, 0.18069209, 0.18069209,\n",
       "       0.18069209, 0.18069209, 0.18069209, 0.18069209, 0.18069209,\n",
       "       0.18069209, 0.18069209, 0.18069209, 0.18069209, 0.18069209,\n",
       "       0.18069209, 0.18069209, 0.18069209, 0.18069209, 0.18069209,\n",
       "       0.18069209, 0.18069209, 0.18069209, 0.18069209, 0.18069209])"
      ]
     },
     "execution_count": 10,
     "metadata": {},
     "output_type": "execute_result"
    }
   ],
   "source": [
    "#Tax Revenue\n",
    "T_t = tau*wstar_t*Lstar_t\n",
    "T_t"
   ]
  },
  {
   "cell_type": "code",
   "execution_count": 14,
   "id": "c228c021",
   "metadata": {},
   "outputs": [
    {
     "data": {
      "text/plain": [
       "[<matplotlib.lines.Line2D at 0x1a1e83eb0d0>]"
      ]
     },
     "execution_count": 14,
     "metadata": {},
     "output_type": "execute_result"
    },
    {
     "data": {
      "image/png": "[encoded data removed]",
      "text/plain": [
       "<Figure size 432x288 with 1 Axes>"
      ]
     },
     "metadata": {
      "needs_background": "light"
     },
     "output_type": "display_data"
    }
   ],
   "source": [
    "sigma = 0.10\n",
    "gamma1 = 0.50\n",
    "gamma2 = 1 - gamma1\n",
    "\n",
    "hpub_t = sigma*T_t / (gamma2*pP_t)\n",
    "\n",
    "#hpub_t\n",
    "hT_t = ((1-a)/pP_t)*(0 + Lstar_t**omega - pP_t*hbarA_t - (Lstar_t**omega)/omega + pP_t*hpub_t) + hbarA_t\n",
    "\n",
    "h2_t = hT_t - hpub_t\n",
    "\n",
    "c2_t = a*(0 + Lstar_t**omega - pP_t*hbarA_t - (Lstar_t**omega)/omega + pP_t*hpub_t) + (Lstar_t**omega)/omega\n",
    "\n",
    "plt.plot(hpub_t)"
   ]
  },
  {
   "cell_type": "code",
   "execution_count": 15,
   "id": "6afffd35",
   "metadata": {},
   "outputs": [
    {
     "data": {
      "text/plain": [
       "[<matplotlib.lines.Line2D at 0x1a1e843b820>]"
      ]
     },
     "execution_count": 15,
     "metadata": {},
     "output_type": "execute_result"
    },
    {
     "data": {
      "image/png": "[encoded data removed]",
      "text/plain": [
       "<Figure size 432x288 with 1 Axes>"
      ]
     },
     "metadata": {
      "needs_background": "light"
     },
     "output_type": "display_data"
    }
   ],
   "source": [
    "c1_t = a*(Pistar_t/gamma1 + pP_t*h + Lstar_t**omega - pP_t*hbarA_t - (Lstar_t**omega)/omega) + (Lstar_t**omega)/omega\n",
    "\n",
    "h1_t = ((1-a)/pP_t)*(Pistar_t/gamma1 + pP_t*h + Lstar_t**omega - pP_t*hbarA_t - (Lstar_t**omega)/omega) + hbarA_t\n",
    "\n",
    "plt.plot(c1_t)"
   ]
  },
  {
   "cell_type": "code",
   "execution_count": 17,
   "id": "3619c534",
   "metadata": {},
   "outputs": [
    {
     "data": {
      "text/plain": [
       "[<matplotlib.lines.Line2D at 0x1a1e8494880>]"
      ]
     },
     "execution_count": 17,
     "metadata": {},
     "output_type": "execute_result"
    },
    {
     "data": {
      "image/png": "[encoded data removed]",
      "text/plain": [
       "<Figure size 432x288 with 1 Axes>"
      ]
     },
     "metadata": {
      "needs_background": "light"
     },
     "output_type": "display_data"
    }
   ],
   "source": [
    "#Measure of Inequality - Consumption non-health \n",
    "Omega_c = c1_t / c2_t\n",
    "plt.plot(Omega_c)"
   ]
  },
  {
   "cell_type": "code",
   "execution_count": 18,
   "id": "ff513cd7",
   "metadata": {},
   "outputs": [
    {
     "data": {
      "text/plain": [
       "[<matplotlib.lines.Line2D at 0x1a1e84f51f0>]"
      ]
     },
     "execution_count": 18,
     "metadata": {},
     "output_type": "execute_result"
    },
    {
     "data": {
      "image/png": "[encoded data removed]",
      "text/plain": [
       "<Figure size 432x288 with 1 Axes>"
      ]
     },
     "metadata": {
      "needs_background": "light"
     },
     "output_type": "display_data"
    }
   ],
   "source": [
    "#Measure of Inequality - Consumption health \n",
    "Omega_h = h1_t / hT_t\n",
    "Omega_hnopub = h1_t / h2_t\n",
    "plt.plot(Omega_h)\n",
    "plt.plot(Omega_hnopub)"
   ]
  },
  {
   "cell_type": "code",
   "execution_count": 19,
   "id": "54061fc2",
   "metadata": {},
   "outputs": [
    {
     "data": {
      "text/plain": [
       "[<matplotlib.lines.Line2D at 0x1a1e83bfa00>]"
      ]
     },
     "execution_count": 19,
     "metadata": {},
     "output_type": "execute_result"
    },
    {
     "data": {
      "image/png": "[encoded data removed]",
      "text/plain": [
       "<Figure size 432x288 with 1 Axes>"
      ]
     },
     "metadata": {
      "needs_background": "light"
     },
     "output_type": "display_data"
    }
   ],
   "source": [
    "#Measure of Inequality - Total Consumption - health and non-health\n",
    "Omega_T = (c1_t + h1_t) / (c2_t + hT_t)\n",
    "plt.plot(Omega_T)"
   ]
  }
 ],
 "metadata": {
  "kernelspec": {
   "display_name": "Python 3 (ipykernel)",
   "language": "python",
   "name": "python3"
  },
  "language_info": {
   "codemirror_mode": {
    "name": "ipython",
    "version": 3
   },
   "file_extension": ".py",
   "mimetype": "text/x-python",
   "name": "python",
   "nbconvert_exporter": "python",
   "pygments_lexer": "ipython3",
   "version": "3.10.8"
  }
 },
 "nbformat": 4,
 "nbformat_minor": 5
}
